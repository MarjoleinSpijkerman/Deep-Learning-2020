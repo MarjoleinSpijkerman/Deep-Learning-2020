{
  "nbformat": 4,
  "nbformat_minor": 0,
  "metadata": {
    "colab": {
      "name": "open_zip.ipynb",
      "provenance": [],
      "collapsed_sections": []
    },
    "kernelspec": {
      "name": "python3",
      "display_name": "Python 3"
    },
    "accelerator": "GPU"
  },
  "cells": [
    {
      "cell_type": "code",
      "metadata": {
        "id": "ongsjgvZB0xL",
        "colab_type": "code",
        "colab": {}
      },
      "source": [
        "import os\n",
        "import random\n",
        "import shutil\n",
        "import zipfile"
      ],
      "execution_count": 0,
      "outputs": []
    },
    {
      "cell_type": "code",
      "metadata": {
        "id": "xqUet4_X40KA",
        "colab_type": "code",
        "outputId": "56f4bcba-38ab-44d2-ca72-4565392edcfe",
        "colab": {
          "base_uri": "https://localhost:8080/",
          "height": 129
        }
      },
      "source": [
        "# connect to google drive\n",
        "offline_use = False\n",
        "\n",
        "if offline_use:\n",
        "  directory = os.path.dirname(os.path.abspath(__file__))\n",
        "else:\n",
        "  from google.colab import drive\n",
        "  drive.mount('/content/drive', force_remount=True)\n",
        "  directory = '/content/drive/My Drive/'\n",
        "\n",
        "gan_data_directory = os.path.join(directory, 'gan_data')\n",
        "real_img_directory = os.path.join(gan_data_directory, 'real_img')\n",
        "mask_path = os.path.join(gan_data_directory, 'mask')"
      ],
      "execution_count": 0,
      "outputs": [
        {
          "output_type": "stream",
          "text": [
            "Go to this URL in a browser: https://accounts.google.com/o/oauth2/auth?client_id=947318989803-6bn6qk8qdgf4n4g3pfee6491hc0brc4i.apps.googleusercontent.com&redirect_uri=urn%3aietf%3awg%3aoauth%3a2.0%3aoob&response_type=code&scope=email%20https%3a%2f%2fwww.googleapis.com%2fauth%2fdocs.test%20https%3a%2f%2fwww.googleapis.com%2fauth%2fdrive%20https%3a%2f%2fwww.googleapis.com%2fauth%2fdrive.photos.readonly%20https%3a%2f%2fwww.googleapis.com%2fauth%2fpeopleapi.readonly\n",
            "\n",
            "Enter your authorization code:\n",
            "··········\n",
            "Mounted at /content/drive\n"
          ],
          "name": "stdout"
        }
      ]
    },
    {
      "cell_type": "code",
      "metadata": {
        "id": "RAFtMarSTqyg",
        "colab_type": "code",
        "colab": {}
      },
      "source": [
        "n_real_folders = 100\n",
        "zip_name = 'bamboo_forest.zip'"
      ],
      "execution_count": 0,
      "outputs": []
    },
    {
      "cell_type": "code",
      "metadata": {
        "id": "byWi3ze85GFl",
        "colab_type": "code",
        "outputId": "d3bfbf16-f413-496a-ac22-4bcbdadc1c00",
        "colab": {
          "base_uri": "https://localhost:8080/",
          "height": 1000
        }
      },
      "source": [
        "i_part = 2\n",
        "n_part = 3\n",
        "\n",
        "folder_numbers = {}\n",
        "\n",
        "with zipfile.ZipFile(os.path.join(gan_data_directory, zip_name), 'r') as zip_file:\n",
        "    lst_2 = sorted(zip_file.namelist())\n",
        "\n",
        "    # Take a subpart of the list because it will time out!\n",
        "    lst = lst_2[i_part*len(lst_2)//n_part:(i_part + 1)*len(lst_2)//n_part]\n",
        "    for i, member in enumerate(lst):\n",
        "        # print('{} / {}'.format(i + 1, len(lst_2)))\n",
        "\n",
        "        filename = os.path.basename(member)\n",
        "\n",
        "        # skip directories\n",
        "        if not filename:\n",
        "            continue\n",
        "\n",
        "        # copy file (taken from zipfile's extract)\n",
        "        source = zip_file.open(member)\n",
        "\n",
        "        if 'mask' in filename:\n",
        "          #mask file\n",
        "          print('mask')\n",
        "\n",
        "          folder = filename.replace('mask', '').split('.')[0]\n",
        "          folder_key = folder.split('_')[1]\n",
        "\n",
        "          if folder_key in folder_numbers:\n",
        "            folder_number = folder_numbers[folder_key]\n",
        "          else:\n",
        "            folder_numbers[folder_key] = folder_number = str(random.randrange(n_real_folders))\n",
        "\n",
        "          folder_path = os.path.join(mask_path, folder_number, folder)\n",
        "\n",
        "          os.makedirs(folder_path, exist_ok=True)\n",
        "\n",
        "          tgt_file = os.path.join(folder_path, 'mask.pickle')\n",
        "        elif 'combined' in filename:\n",
        "          #combined file\n",
        "          print('combined')\n",
        "\n",
        "          folder = filename.replace('combined', '').split('.')[0]\n",
        "          folder_key = folder.split('_')[1]\n",
        "\n",
        "          if folder_key in folder_numbers:\n",
        "            folder_number = folder_numbers[folder_key]\n",
        "          else:\n",
        "            folder_numbers[folder_key] = folder_number = str(random.randrange(n_real_folders))\n",
        "\n",
        "          folder_path = os.path.join(mask_path, folder_number, folder)\n",
        "\n",
        "          os.makedirs(folder_path, exist_ok=True)\n",
        "\n",
        "          tgt_file = os.path.join(folder_path, 'combined.pickle')\n",
        "        else:\n",
        "          #real picture\n",
        "          print('base')\n",
        "\n",
        "          folder_key = filename.split('.')[0].split('_')[1]\n",
        "\n",
        "          if folder_key in folder_numbers:\n",
        "            folder_number = folder_numbers[folder_key]\n",
        "          else:\n",
        "            folder_numbers[folder_key] = folder_number = str(random.randrange(n_real_folders))\n",
        "\n",
        "          folder_path = os.path.join(real_img_directory, folder_number)\n",
        "          os.makedirs(folder_path, exist_ok=True)\n",
        "          tgt_file = os.path.join(folder_path, filename)\n",
        "\n",
        "        print('{} / {}: {}'.format(i + 1, len(lst_2), tgt_file))\n",
        "\n",
        "        target = open(tgt_file, \"wb\")\n",
        "        with source, target:\n",
        "            shutil.copyfileobj(source, target)"
      ],
      "execution_count": 0,
      "outputs": [
        {
          "output_type": "stream",
          "text": [
            "mask\n",
            "1 / 40223: /content/drive/My Drive/gan_data/mask/70/gsun_aa35811129795a491ae9523725d45221_1/mask.pickle\n",
            "mask\n",
            "2 / 40223: /content/drive/My Drive/gan_data/mask/70/gsun_aa35811129795a491ae9523725d45221_2/mask.pickle\n",
            "mask\n",
            "3 / 40223: /content/drive/My Drive/gan_data/mask/70/gsun_aa35811129795a491ae9523725d45221_3/mask.pickle\n",
            "base\n",
            "4 / 40223: /content/drive/My Drive/gan_data/real_img/79/gsun_aa48c2c5e22624ed10931cd2bd21aa25.pickle\n",
            "combined\n",
            "5 / 40223: /content/drive/My Drive/gan_data/mask/79/gsun_aa48c2c5e22624ed10931cd2bd21aa25_1/combined.pickle\n",
            "combined\n",
            "6 / 40223: /content/drive/My Drive/gan_data/mask/79/gsun_aa48c2c5e22624ed10931cd2bd21aa25_2/combined.pickle\n",
            "combined\n",
            "7 / 40223: /content/drive/My Drive/gan_data/mask/79/gsun_aa48c2c5e22624ed10931cd2bd21aa25_3/combined.pickle\n",
            "mask\n",
            "8 / 40223: /content/drive/My Drive/gan_data/mask/79/gsun_aa48c2c5e22624ed10931cd2bd21aa25_1/mask.pickle\n",
            "mask\n",
            "9 / 40223: /content/drive/My Drive/gan_data/mask/79/gsun_aa48c2c5e22624ed10931cd2bd21aa25_2/mask.pickle\n",
            "mask\n",
            "10 / 40223: /content/drive/My Drive/gan_data/mask/79/gsun_aa48c2c5e22624ed10931cd2bd21aa25_3/mask.pickle\n",
            "base\n",
            "11 / 40223: /content/drive/My Drive/gan_data/real_img/13/gsun_aa4a5bb8ff20e48765973455bb9c7ff7.pickle\n",
            "combined\n",
            "12 / 40223: /content/drive/My Drive/gan_data/mask/13/gsun_aa4a5bb8ff20e48765973455bb9c7ff7_1/combined.pickle\n",
            "combined\n",
            "13 / 40223: /content/drive/My Drive/gan_data/mask/13/gsun_aa4a5bb8ff20e48765973455bb9c7ff7_2/combined.pickle\n",
            "combined\n",
            "14 / 40223: /content/drive/My Drive/gan_data/mask/13/gsun_aa4a5bb8ff20e48765973455bb9c7ff7_3/combined.pickle\n",
            "mask\n",
            "15 / 40223: /content/drive/My Drive/gan_data/mask/13/gsun_aa4a5bb8ff20e48765973455bb9c7ff7_1/mask.pickle\n",
            "mask\n",
            "16 / 40223: /content/drive/My Drive/gan_data/mask/13/gsun_aa4a5bb8ff20e48765973455bb9c7ff7_2/mask.pickle\n",
            "mask\n",
            "17 / 40223: /content/drive/My Drive/gan_data/mask/13/gsun_aa4a5bb8ff20e48765973455bb9c7ff7_3/mask.pickle\n",
            "base\n",
            "18 / 40223: /content/drive/My Drive/gan_data/real_img/41/gsun_aa4d3eb411ddcbc4793b0e934e7e8065.pickle\n",
            "combined\n"
          ],
          "name": "stdout"
        },
        {
          "output_type": "error",
          "ename": "KeyboardInterrupt",
          "evalue": "ignored",
          "traceback": [
            "\u001b[0;31m---------------------------------------------------------------------------\u001b[0m",
            "\u001b[0;31mKeyboardInterrupt\u001b[0m                         Traceback (most recent call last)",
            "\u001b[0;32m<ipython-input-4-3dc2a8f16cd5>\u001b[0m in \u001b[0;36m<module>\u001b[0;34m()\u001b[0m\n\u001b[1;32m     52\u001b[0m           \u001b[0mfolder_path\u001b[0m \u001b[0;34m=\u001b[0m \u001b[0mos\u001b[0m\u001b[0;34m.\u001b[0m\u001b[0mpath\u001b[0m\u001b[0;34m.\u001b[0m\u001b[0mjoin\u001b[0m\u001b[0;34m(\u001b[0m\u001b[0mmask_path\u001b[0m\u001b[0;34m,\u001b[0m \u001b[0mfolder_number\u001b[0m\u001b[0;34m,\u001b[0m \u001b[0mfolder\u001b[0m\u001b[0;34m)\u001b[0m\u001b[0;34m\u001b[0m\u001b[0;34m\u001b[0m\u001b[0m\n\u001b[1;32m     53\u001b[0m \u001b[0;34m\u001b[0m\u001b[0m\n\u001b[0;32m---> 54\u001b[0;31m           \u001b[0mos\u001b[0m\u001b[0;34m.\u001b[0m\u001b[0mmakedirs\u001b[0m\u001b[0;34m(\u001b[0m\u001b[0mfolder_path\u001b[0m\u001b[0;34m,\u001b[0m \u001b[0mexist_ok\u001b[0m\u001b[0;34m=\u001b[0m\u001b[0;32mTrue\u001b[0m\u001b[0;34m)\u001b[0m\u001b[0;34m\u001b[0m\u001b[0;34m\u001b[0m\u001b[0m\n\u001b[0m\u001b[1;32m     55\u001b[0m \u001b[0;34m\u001b[0m\u001b[0m\n\u001b[1;32m     56\u001b[0m           \u001b[0mtgt_file\u001b[0m \u001b[0;34m=\u001b[0m \u001b[0mos\u001b[0m\u001b[0;34m.\u001b[0m\u001b[0mpath\u001b[0m\u001b[0;34m.\u001b[0m\u001b[0mjoin\u001b[0m\u001b[0;34m(\u001b[0m\u001b[0mfolder_path\u001b[0m\u001b[0;34m,\u001b[0m \u001b[0;34m'combined.pickle'\u001b[0m\u001b[0;34m)\u001b[0m\u001b[0;34m\u001b[0m\u001b[0;34m\u001b[0m\u001b[0m\n",
            "\u001b[0;32m/usr/lib/python3.6/os.py\u001b[0m in \u001b[0;36mmakedirs\u001b[0;34m(name, mode, exist_ok)\u001b[0m\n\u001b[1;32m    218\u001b[0m             \u001b[0;32mreturn\u001b[0m\u001b[0;34m\u001b[0m\u001b[0;34m\u001b[0m\u001b[0m\n\u001b[1;32m    219\u001b[0m     \u001b[0;32mtry\u001b[0m\u001b[0;34m:\u001b[0m\u001b[0;34m\u001b[0m\u001b[0;34m\u001b[0m\u001b[0m\n\u001b[0;32m--> 220\u001b[0;31m         \u001b[0mmkdir\u001b[0m\u001b[0;34m(\u001b[0m\u001b[0mname\u001b[0m\u001b[0;34m,\u001b[0m \u001b[0mmode\u001b[0m\u001b[0;34m)\u001b[0m\u001b[0;34m\u001b[0m\u001b[0;34m\u001b[0m\u001b[0m\n\u001b[0m\u001b[1;32m    221\u001b[0m     \u001b[0;32mexcept\u001b[0m \u001b[0mOSError\u001b[0m\u001b[0;34m:\u001b[0m\u001b[0;34m\u001b[0m\u001b[0;34m\u001b[0m\u001b[0m\n\u001b[1;32m    222\u001b[0m         \u001b[0;31m# Cannot rely on checking for EEXIST, since the operating system\u001b[0m\u001b[0;34m\u001b[0m\u001b[0;34m\u001b[0m\u001b[0;34m\u001b[0m\u001b[0m\n",
            "\u001b[0;31mKeyboardInterrupt\u001b[0m: "
          ]
        }
      ]
    },
    {
      "cell_type": "markdown",
      "metadata": {
        "id": "5OotzSb_5HiM",
        "colab_type": "text"
      },
      "source": [
        "Other stuff"
      ]
    },
    {
      "cell_type": "code",
      "metadata": {
        "id": "tHlJzSCY4uto",
        "colab_type": "code",
        "colab": {}
      },
      "source": [
        "# Colab library to upload files to notebook\n",
        "from google.colab import files\n",
        "\n",
        "# Install Kaggle library\n",
        "!pip install -q kaggle"
      ],
      "execution_count": 0,
      "outputs": []
    },
    {
      "cell_type": "code",
      "metadata": {
        "id": "k1oq8LhSCGyP",
        "colab_type": "code",
        "colab": {}
      },
      "source": [
        "import os\n",
        "\n",
        "# connect to google drive\n",
        "offline_use = False\n",
        "\n",
        "if offline_use:\n",
        "  directory = os.path.dirname(os.path.abspath(__file__))\n",
        "else:\n",
        "  from google.colab import drive\n",
        "  drive.mount('/content/drive')\n",
        "  directory = '/content/drive/My Drive/'\n",
        "\n",
        "gan_data_directory = os.path.join(directory, 'gan_data')\n",
        "real_img_directory = os.path.join(gan_data_directory, 'real_img')\n",
        "mask_path = os.path.join(gan_data_directory, 'mask')"
      ],
      "execution_count": 0,
      "outputs": []
    },
    {
      "cell_type": "code",
      "metadata": {
        "id": "Wy2y4dWOkgtl",
        "colab_type": "code",
        "colab": {}
      },
      "source": [
        "import zipfile\n",
        "zip_ref = zipfile.ZipFile(os.path.join(gan_data_directory, 'baseball_field.zip'), 'r')\n",
        "zip_ref.extractall(os.path.join(gan_data_directory, 'baseball_field'))\n",
        "zip_ref.close()"
      ],
      "execution_count": 0,
      "outputs": []
    },
    {
      "cell_type": "code",
      "metadata": {
        "id": "mFKSJN7Tpzrm",
        "colab_type": "code",
        "colab": {}
      },
      "source": [
        "import shutil"
      ],
      "execution_count": 0,
      "outputs": []
    },
    {
      "cell_type": "code",
      "metadata": {
        "id": "Fu3_WTCXDvt9",
        "colab_type": "code",
        "outputId": "eecf1f96-4ba4-4eda-a6a2-283d03eeaddf",
        "colab": {
          "base_uri": "https://localhost:8080/",
          "height": 265
        }
      },
      "source": [
        "#shutil.rmtree(mask_path)\n",
        "\n",
        "folders = ['gan_data/baseball_field/baseball_field']\n",
        "\n",
        "for folder in folders:\n",
        "  folder_path = os.path.join(directory, folder)\n",
        "  if not os.path.isdir(folder_path):\n",
        "    print('Folder not found: {}'.format(folder_path))\n",
        "    continue\n",
        "  \n",
        "  print('Listing files')\n",
        "  files = os.listdir(folder_path)\n",
        "  base_pics = [file_name for file_name in files if 'combined' not in file_name and 'mask' not in file_name]\n",
        "\n",
        "  for idx, file_name in enumerate(base_pics):\n",
        "    print('Looking at file {} out of {}'.format(idx + 1, len(base_pics)))\n",
        "    file_path = os.path.join(folder_path, file_name)\n",
        "    if not os.path.isfile(file_path):\n",
        "      print('Not a file: {}'.format(file_path))\n",
        "      continue\n",
        "    print('Copying...')\n",
        "    shutil.copyfile(file_path, os.path.join(real_img_directory, file_name))\n",
        "\n",
        "    fn_wo_ext, ext = file_name.split('.', 1)\n",
        "\n",
        "    for i in range(1, 4):\n",
        "      folder_name = fn_wo_ext + str(i)\n",
        "      tgt_folder_path = os.path.join(mask_path, folder_name)\n",
        "      os.makedirs(tgt_folder_path)\n",
        "      print(tgt_folder_path)\n",
        "      src_mask_path = os.path.join(folder_path, '{}_mask{}.{}'.format(fn_wo_ext, i, ext))\n",
        "      src_combined_path = os.path.join(folder_path, '{}_combined{}.{}'.format(fn_wo_ext, i, ext))\n",
        "      tgt_mask_path = os.path.join(tgt_folder_path, 'mask.{}'.format(ext))\n",
        "      tgt_combined_path = os.path.join(tgt_folder_path, 'filtered.{}'.format(ext))\n",
        "      if not os.path.isfile(src_mask_path) or not os.path.isfile(src_combined_path):\n",
        "        print('Could not find both images for mask and combined:\\n\\t{}\\n\\t{}'.format(src_mask_path, src_combined_path))\n",
        "        continue\n",
        "      \n",
        "      print('{}\\t{}\\n{}\\t{}'.format(src_mask_path, tgt_mask_path, src_combined_path, tgt_combined_path))\n",
        "      shutil.copyfile(src_mask_path, tgt_mask_path)\n",
        "      shutil.copyfile(src_combined_path, tgt_combined_path)"
      ],
      "execution_count": 0,
      "outputs": [
        {
          "output_type": "stream",
          "text": [
            "Listing files\n"
          ],
          "name": "stdout"
        },
        {
          "output_type": "error",
          "ename": "OSError",
          "evalue": "ignored",
          "traceback": [
            "\u001b[0;31m---------------------------------------------------------------------------\u001b[0m",
            "\u001b[0;31mOSError\u001b[0m                                   Traceback (most recent call last)",
            "\u001b[0;32m<ipython-input-5-ccff64c8cb2d>\u001b[0m in \u001b[0;36m<module>\u001b[0;34m()\u001b[0m\n\u001b[1;32m      9\u001b[0m \u001b[0;34m\u001b[0m\u001b[0m\n\u001b[1;32m     10\u001b[0m   \u001b[0mprint\u001b[0m\u001b[0;34m(\u001b[0m\u001b[0;34m'Listing files'\u001b[0m\u001b[0;34m)\u001b[0m\u001b[0;34m\u001b[0m\u001b[0;34m\u001b[0m\u001b[0m\n\u001b[0;32m---> 11\u001b[0;31m   \u001b[0mfiles\u001b[0m \u001b[0;34m=\u001b[0m \u001b[0mos\u001b[0m\u001b[0;34m.\u001b[0m\u001b[0mlistdir\u001b[0m\u001b[0;34m(\u001b[0m\u001b[0mfolder_path\u001b[0m\u001b[0;34m)\u001b[0m\u001b[0;34m\u001b[0m\u001b[0;34m\u001b[0m\u001b[0m\n\u001b[0m\u001b[1;32m     12\u001b[0m   \u001b[0mbase_pics\u001b[0m \u001b[0;34m=\u001b[0m \u001b[0;34m[\u001b[0m\u001b[0mfile_name\u001b[0m \u001b[0;32mfor\u001b[0m \u001b[0mfile_name\u001b[0m \u001b[0;32min\u001b[0m \u001b[0mfiles\u001b[0m \u001b[0;32mif\u001b[0m \u001b[0;34m'combined'\u001b[0m \u001b[0;32mnot\u001b[0m \u001b[0;32min\u001b[0m \u001b[0mfile_name\u001b[0m \u001b[0;32mand\u001b[0m \u001b[0;34m'mask'\u001b[0m \u001b[0;32mnot\u001b[0m \u001b[0;32min\u001b[0m \u001b[0mfile_name\u001b[0m\u001b[0;34m]\u001b[0m\u001b[0;34m\u001b[0m\u001b[0;34m\u001b[0m\u001b[0m\n\u001b[1;32m     13\u001b[0m \u001b[0;34m\u001b[0m\u001b[0m\n",
            "\u001b[0;31mOSError\u001b[0m: [Errno 5] Input/output error: '/content/drive/My Drive/gan_data/baseball_field/baseball_field'"
          ]
        }
      ]
    },
    {
      "cell_type": "code",
      "metadata": {
        "id": "Zht6Q1dvIhdZ",
        "colab_type": "code",
        "outputId": "27b5b0af-2fc9-4af2-c546-3f47d73cf5c9",
        "colab": {
          "base_uri": "https://localhost:8080/",
          "height": 413
        }
      },
      "source": [
        "import shutil\n",
        "import zipfile\n",
        "\n",
        "n_real_folders = 100\n",
        "zip_name = 'bamboo_forest.zip'\n",
        "\n",
        "with zipfile.ZipFile(os.path.join(gan_data_directory, zip_name), 'r') as zip_file:\n",
        "    lst = sorted(zip_file.namelist())\n",
        "    lst = lst[:len(lst)/2]\n",
        "    for i, member in enumerate(lst):\n",
        "        print('{} / {}'.format(i + 1, len(lst)))\n",
        "        filename = os.path.basename(member)\n",
        "        # skip directories\n",
        "        if not filename:\n",
        "            continue\n",
        "\n",
        "        # copy file (taken from zipfile's extract)\n",
        "        source = zip_file.open(member)\n",
        "\n",
        "        if 'mask' in filename:\n",
        "          #mask file\n",
        "          print('mask')\n",
        "          folder = filename.replace('mask', '').split('.')[0]\n",
        "          folder_number = random.randrange(n_real_folders)\n",
        "          folder_path = os.path.join(mask_path, folder_path, folder)\n",
        "          os.makedirs(folder_path, exist_ok=True)\n",
        "          tgt_file = os.path.join(folder_path, 'mask.pickle')\n",
        "        elif 'combined' in filename:\n",
        "          #combined file\n",
        "          print('combined')\n",
        "          folder = filename.replace('combined', '').split('.')[0]\n",
        "          folder_number = random.randrange(n_real_folders)\n",
        "          folder_path = os.path.join(mask_path, folder_path, folder)\n",
        "          os.makedirs(folder_path, exist_ok=True)\n",
        "          tgt_file = os.path.join(folder_path, 'combined.pickle')\n",
        "          print(tgt_file)\n",
        "        else:\n",
        "          #real picture\n",
        "          print('base')\n",
        "          folder_number = random.randrange(n_real_folders)\n",
        "          folder_path = os.path.join(mask_path, folder_number)\n",
        "          os.makedirs(folder_path, exist_ok=True)\n",
        "          tgt_file = os.path.join(folder_path, filename)\n",
        "\n",
        "        target = open(tgt_file, \"wb\")\n",
        "        with source, target:\n",
        "            shutil.copyfileobj(source, target)"
      ],
      "execution_count": 0,
      "outputs": [
        {
          "output_type": "stream",
          "text": [
            "1 / 40223\n",
            "mask\n"
          ],
          "name": "stdout"
        },
        {
          "output_type": "error",
          "ename": "OSError",
          "evalue": "ignored",
          "traceback": [
            "\u001b[0;31m---------------------------------------------------------------------------\u001b[0m",
            "\u001b[0;31mOSError\u001b[0m                                   Traceback (most recent call last)",
            "\u001b[0;32m<ipython-input-3-ec4588a84332>\u001b[0m in \u001b[0;36m<module>\u001b[0;34m()\u001b[0m\n\u001b[1;32m     19\u001b[0m           \u001b[0mfolder\u001b[0m \u001b[0;34m=\u001b[0m \u001b[0mfilename\u001b[0m\u001b[0;34m.\u001b[0m\u001b[0mreplace\u001b[0m\u001b[0;34m(\u001b[0m\u001b[0;34m'mask'\u001b[0m\u001b[0;34m,\u001b[0m \u001b[0;34m''\u001b[0m\u001b[0;34m)\u001b[0m\u001b[0;34m.\u001b[0m\u001b[0msplit\u001b[0m\u001b[0;34m(\u001b[0m\u001b[0;34m'.'\u001b[0m\u001b[0;34m)\u001b[0m\u001b[0;34m[\u001b[0m\u001b[0;36m0\u001b[0m\u001b[0;34m]\u001b[0m\u001b[0;34m\u001b[0m\u001b[0;34m\u001b[0m\u001b[0m\n\u001b[1;32m     20\u001b[0m           \u001b[0mfolder_path\u001b[0m \u001b[0;34m=\u001b[0m \u001b[0mos\u001b[0m\u001b[0;34m.\u001b[0m\u001b[0mpath\u001b[0m\u001b[0;34m.\u001b[0m\u001b[0mjoin\u001b[0m\u001b[0;34m(\u001b[0m\u001b[0mmask_path\u001b[0m\u001b[0;34m,\u001b[0m \u001b[0mfolder\u001b[0m\u001b[0;34m)\u001b[0m\u001b[0;34m\u001b[0m\u001b[0;34m\u001b[0m\u001b[0m\n\u001b[0;32m---> 21\u001b[0;31m           \u001b[0mos\u001b[0m\u001b[0;34m.\u001b[0m\u001b[0mmakedirs\u001b[0m\u001b[0;34m(\u001b[0m\u001b[0mfolder_path\u001b[0m\u001b[0;34m,\u001b[0m \u001b[0mexist_ok\u001b[0m\u001b[0;34m=\u001b[0m\u001b[0;32mTrue\u001b[0m\u001b[0;34m)\u001b[0m\u001b[0;34m\u001b[0m\u001b[0;34m\u001b[0m\u001b[0m\n\u001b[0m\u001b[1;32m     22\u001b[0m           \u001b[0mtgt_file\u001b[0m \u001b[0;34m=\u001b[0m \u001b[0mos\u001b[0m\u001b[0;34m.\u001b[0m\u001b[0mpath\u001b[0m\u001b[0;34m.\u001b[0m\u001b[0mjoin\u001b[0m\u001b[0;34m(\u001b[0m\u001b[0mfolder_path\u001b[0m\u001b[0;34m,\u001b[0m \u001b[0;34m'mask.pickle'\u001b[0m\u001b[0;34m)\u001b[0m\u001b[0;34m\u001b[0m\u001b[0;34m\u001b[0m\u001b[0m\n\u001b[1;32m     23\u001b[0m         \u001b[0;32melif\u001b[0m \u001b[0;34m'combined'\u001b[0m \u001b[0;32min\u001b[0m \u001b[0mfilename\u001b[0m\u001b[0;34m:\u001b[0m\u001b[0;34m\u001b[0m\u001b[0;34m\u001b[0m\u001b[0m\n",
            "\u001b[0;32m/usr/lib/python3.6/os.py\u001b[0m in \u001b[0;36mmakedirs\u001b[0;34m(name, mode, exist_ok)\u001b[0m\n\u001b[1;32m    218\u001b[0m             \u001b[0;32mreturn\u001b[0m\u001b[0;34m\u001b[0m\u001b[0;34m\u001b[0m\u001b[0m\n\u001b[1;32m    219\u001b[0m     \u001b[0;32mtry\u001b[0m\u001b[0;34m:\u001b[0m\u001b[0;34m\u001b[0m\u001b[0;34m\u001b[0m\u001b[0m\n\u001b[0;32m--> 220\u001b[0;31m         \u001b[0mmkdir\u001b[0m\u001b[0;34m(\u001b[0m\u001b[0mname\u001b[0m\u001b[0;34m,\u001b[0m \u001b[0mmode\u001b[0m\u001b[0;34m)\u001b[0m\u001b[0;34m\u001b[0m\u001b[0;34m\u001b[0m\u001b[0m\n\u001b[0m\u001b[1;32m    221\u001b[0m     \u001b[0;32mexcept\u001b[0m \u001b[0mOSError\u001b[0m\u001b[0;34m:\u001b[0m\u001b[0;34m\u001b[0m\u001b[0;34m\u001b[0m\u001b[0m\n\u001b[1;32m    222\u001b[0m         \u001b[0;31m# Cannot rely on checking for EEXIST, since the operating system\u001b[0m\u001b[0;34m\u001b[0m\u001b[0;34m\u001b[0m\u001b[0;34m\u001b[0m\u001b[0m\n",
            "\u001b[0;31mOSError\u001b[0m: [Errno 5] Input/output error: '/content/drive/My Drive/gan_data/mask/gsun_89e503949e4c6fcc6c5434be85c7ef5f_2'"
          ]
        }
      ]
    },
    {
      "cell_type": "code",
      "metadata": {
        "id": "Iiau3yIRVmMz",
        "colab_type": "code",
        "colab": {}
      },
      "source": [
        ""
      ],
      "execution_count": 0,
      "outputs": []
    }
  ]
}